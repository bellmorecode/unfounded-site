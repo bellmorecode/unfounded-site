{
    "metadata": {
        "kernelspec": {
            "name": "SQL",
            "display_name": "SQL",
            "language": "sql"
        },
        "language_info": {
            "name": "sql",
            "version": ""
        }
    },
    "nbformat_minor": 2,
    "nbformat": 4,
    "cells": [
        {
            "cell_type": "markdown",
            "source": [
                "This is the table setup for the \"crypt\" / \"rugs\" concept app."
            ],
            "metadata": {
                "azdata_cell_guid": "3ef2afc5-cb4c-43a0-83de-859ee834905a"
            },
            "attachments": {}
        },
        {
            "cell_type": "code",
            "source": [
                "Create Table [Contracts] (\r\n",
                "    [Id] UNIQUEIDENTIFIER Primary Key default(newid()),\r\n",
                "    [Name] nvarchar(500) null,\r\n",
                "    [Address] nvarchar(50) not null,\r\n",
                "    [ChainId] nvarchar(50) not null,\r\n",
                "    [TokenType] nvarchar(50) not null,\r\n",
                "    [ProposedById] UNIQUEIDENTIFIER not null,\r\n",
                "    [ApprovedById]  UNIQUEIDENTIFIER null,\r\n",
                "    [ApprovedOn] DATETIME null,\r\n",
                "    [IsActive] bit not null default(1)\r\n",
                ")"
            ],
            "metadata": {
                "azdata_cell_guid": "a39ac63c-afba-4c86-acd6-e428904e990d",
                "language": "sql",
                "tags": [
                    "hide_input"
                ]
            },
            "outputs": [],
            "execution_count": null
        },
        {
            "cell_type": "code",
            "source": [
                "Create Table [Chains] (\r\n",
                "   [Id] UNIQUEIDENTIFIER Primary Key default(newid()),\r\n",
                "    [Name] nvarchar(500) null,\r\n",
                "    [Address] nvarchar(50) not null,\r\n",
                "    [ChainId] nvarchar(50) not null,\r\n",
                "    [IsActive] bit not null default(1)\r\n",
                ")"
            ],
            "metadata": {
                "azdata_cell_guid": "f7730e5d-05ea-4a7b-92d6-f5dcd28fd0f0",
                "language": "sql",
                "tags": [
                    "hide_input"
                ]
            },
            "outputs": [],
            "execution_count": null
        },
        {
            "cell_type": "code",
            "source": [
                "Create Table [Members] (\r\n",
                "    [Id] UNIQUEIDENTIFIER Primary Key default(newid()),\r\n",
                "    [Name] nvarchar(500) null,\r\n",
                "    [Email] nvarchar(500) not null,\r\n",
                "    [CreateDate] datetime not null default(getutcdate()),\r\n",
                "    [IsEmailConfirmed] bit not null default(0),\r\n",
                "    [IsActive] bit not null default(1)\r\n",
                ")"
            ],
            "metadata": {
                "azdata_cell_guid": "b40fb604-c97b-486b-8cd4-24aeb7690d79",
                "language": "sql",
                "tags": [
                    "hide_input"
                ]
            },
            "outputs": [],
            "execution_count": null
        },
        {
            "cell_type": "code",
            "source": [
                "Create Table [Wallets] (\r\n",
                "    [Id] UNIQUEIDENTIFIER Primary Key default(newid()),\r\n",
                "    [Name] nvarchar(500) null,\r\n",
                "    [OwnerId] UNIQUEIDENTIFIER not null,\r\n",
                "    [CreateDate] datetime not null default(getutcdate()),\r\n",
                "    [Address] nvarchar(50) not null,\r\n",
                "    [ChainId] nvarchar(50) not null,\r\n",
                "    [IsActive] bit not null default(1)\r\n",
                ")"
            ],
            "metadata": {
                "azdata_cell_guid": "0e024982-a24b-4778-b326-24704a8d8e3e",
                "language": "sql",
                "tags": [
                    "hide_input"
                ]
            },
            "outputs": [],
            "execution_count": null
        },
        {
            "cell_type": "markdown",
            "source": [
                "We are going to setup a few chains to start.  Base, Mainnet, Polygon, Base-Sepolia"
            ],
            "metadata": {
                "azdata_cell_guid": "11b6a99e-421e-4063-ba93-d00e71bc18ae"
            },
            "attachments": {}
        },
        {
            "cell_type": "code",
            "source": [
                "Insert Into [Chains] ([Name], [Address], [ChainId], [IsActive]) values ('Base Sepolia (Test)', 'https://base-sepolia.blockscout.com/', '0x14a34', 1)\r\n",
                "Insert Into [Chains] ([Name], [Address], [ChainId], [IsActive]) values ('Base', 'https://base.blockscout.com/', '0x2105', 1)\r\n",
                "Insert Into [Chains] ([Name], [Address], [ChainId], [IsActive]) values ('Ethereum Mainnet', 'https://eth.blockscout.com/', '0x1', 1)\r\n",
                "Insert Into [Chains] ([Name], [Address], [ChainId], [IsActive]) values ('Sepolia (Test)', 'https://eth-sepolia.blockscout.com/', '0xaa36a7', 1)\r\n",
                "Insert Into [Chains] ([Name], [Address], [ChainId], [IsActive]) values ('Polygon', 'https://polygon.blockscout.com/', '0x89', 1)"
            ],
            "metadata": {
                "azdata_cell_guid": "5f5c30a8-913e-4014-8c9f-ff7c9938f29f",
                "language": "sql",
                "tags": [
                    "hide_input"
                ]
            },
            "outputs": [],
            "execution_count": null
        },
        {
            "cell_type": "markdown",
            "source": [
                "We will allow folks to propose coins or collections to join the platform.  We need to be able to login to gain access to those features.  \n",
                "\n",
                "Collections and Coins can be seen even to anon users."
            ],
            "metadata": {
                "language": "sql",
                "azdata_cell_guid": "3c8064ab-29a3-497d-8abb-e62968990f49"
            },
            "attachments": {}
        },
        {
            "cell_type": "code",
            "source": [
                "Create Table [EmailConfirmationCodes] (\r\n",
                "    [Id] [UNIQUEIDENTIFIER] Primary Key default(newid()),\r\n",
                "    [CreateDate] datetime not null default(getutcdate()),\r\n",
                "    [EmailAddress] nvarchar(1000) not null, \r\n",
                "    [ConfirmationCode] nvarchar(100) not null\r\n",
                ")"
            ],
            "metadata": {
                "azdata_cell_guid": "f37d8bad-0df2-45ce-82f7-e04cae5c7367",
                "language": "sql",
                "tags": [
                    "hide_input"
                ]
            },
            "outputs": [],
            "execution_count": null
        }
    ]
}